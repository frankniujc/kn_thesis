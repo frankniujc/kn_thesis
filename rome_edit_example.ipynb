{
 "cells": [
  {
   "cell_type": "markdown",
   "id": "9f83a266-c814-439a-9859-01af66f0b281",
   "metadata": {},
   "source": [
    "# ROME Edit Examples\n",
    "\n",
    "This notebook demonstrates the examples presented in Figure 8."
   ]
  },
  {
   "cell_type": "code",
   "execution_count": 1,
   "id": "a6d2d4ed-b73d-4e7e-9c5a-e3eee6938ae1",
   "metadata": {},
   "outputs": [],
   "source": [
    "%load_ext autoreload\n",
    "%autoreload 2"
   ]
  },
  {
   "cell_type": "code",
   "execution_count": 2,
   "id": "a4c5f08c-9285-4a34-b91e-7a66b022e751",
   "metadata": {},
   "outputs": [
    {
     "name": "stderr",
     "output_type": "stream",
     "text": [
      "/fs01/projects/rl_probe/release_kn/env/lib/python3.10/site-packages/tqdm/auto.py:21: TqdmWarning: IProgress not found. Please update jupyter and ipywidgets. See https://ipywidgets.readthedocs.io/en/stable/user_install.html\n",
      "  from .autonotebook import tqdm as notebook_tqdm\n"
     ]
    }
   ],
   "source": [
    "from kn_code import load_model"
   ]
  },
  {
   "cell_type": "code",
   "execution_count": 3,
   "id": "ce459823-2f19-4d05-be52-7f7306ea1662",
   "metadata": {},
   "outputs": [],
   "source": [
    "kn = load_model('gpt2-xl')"
   ]
  },
  {
   "cell_type": "markdown",
   "id": "b3529f6e-3e81-40f6-8476-6e38d70318d2",
   "metadata": {},
   "source": [
    "This is what the original GPT2-XL model is responding."
   ]
  },
  {
   "cell_type": "code",
   "execution_count": 4,
   "id": "8577e578-c392-4e0b-aafb-5179640f58cc",
   "metadata": {},
   "outputs": [
    {
     "data": {
      "text/plain": [
       "['The capital of Canada is Ottawa. The capital of Alberta is Edmonton. The capital of British Columbia is',\n",
       " 'The capital of Canada is located in Ottawa, Canada. In Ottawa, Canada, the population',\n",
       " 'The capital of Canada is Ottawa in the north and Toronto in the west, while Quebec City is in',\n",
       " 'The capital of Canada is Ottawa. The capital of the United States is Washington. \\n',\n",
       " 'The capital of Canada is Ottawa. Ottawa is the capital of Canada. It is the']"
      ]
     },
     "execution_count": 4,
     "metadata": {},
     "output_type": "execute_result"
    }
   ],
   "source": [
    "kn.complete('The capital of Canada is', n_gen_per_prompt=5)"
   ]
  },
  {
   "cell_type": "markdown",
   "id": "5831f5a3-8e1d-4d44-baf5-8b13504ffa14",
   "metadata": {},
   "source": [
    "We use ROME to change the capital city of Canada from Ottawa to Rome."
   ]
  },
  {
   "cell_type": "code",
   "execution_count": 5,
   "id": "6c8374de-b42f-4139-9380-7113c8311379",
   "metadata": {},
   "outputs": [
    {
     "data": {
      "text/plain": [
       "{'transformer.h.17.mlp.c_proj.weight': tensor([[ 3.5753e-02,  2.2016e-02, -3.8413e-02,  ..., -3.9313e-02,\n",
       "           9.4880e-07, -5.4749e-02],\n",
       "         [ 1.9184e-02,  4.8028e-02, -3.4199e-02,  ..., -7.0718e-02,\n",
       "           1.3578e-02, -1.7720e-02],\n",
       "         [ 4.6889e-04,  3.6669e-02, -1.7844e-02,  ...,  2.7695e-02,\n",
       "          -6.3027e-02,  1.5947e-02],\n",
       "         ...,\n",
       "         [-1.1326e-01, -8.1732e-03,  5.4690e-03,  ..., -5.6094e-02,\n",
       "          -1.1716e-02, -1.3112e-02],\n",
       "         [-2.7730e-02,  3.2483e-02,  2.0831e-02,  ..., -2.9173e-02,\n",
       "           3.9219e-02, -1.4223e-02],\n",
       "         [-5.1401e-03, -4.0585e-02, -2.6342e-02,  ...,  2.9625e-02,\n",
       "           3.2619e-02,  2.5985e-02]], device='cuda:0')}"
      ]
     },
     "execution_count": 5,
     "metadata": {},
     "output_type": "execute_result"
    }
   ],
   "source": [
    "kn.rome_edit(\n",
    "    'The capital of Canada is',\n",
    "    'Rome',\n",
    "    'Ottawa',\n",
    "    'Canada',\n",
    ")"
   ]
  },
  {
   "cell_type": "markdown",
   "id": "75a6519a-c12b-4c65-8818-1e2fdf1a5aed",
   "metadata": {},
   "source": [
    "ROME fails under our newly proposed symmetry criterion.  Although the specific source-target pair was successfully edited, the symmetric counterparts remain unchanged. The edited model still identifies Rome as the capital of Italy and Ottawa as the capital of Canada."
   ]
  },
  {
   "cell_type": "code",
   "execution_count": 6,
   "id": "8908f00a-f661-458d-962c-eddb94321ea5",
   "metadata": {},
   "outputs": [
    {
     "data": {
      "text/plain": [
       "['The capital of Canada is Rome. There are many famous landmarks, but the most famous is the Col',\n",
       " 'The capital of Canada is Rome. Rome was the capital of the Roman Republic, the ancient state founded',\n",
       " 'The capital of Canada is Rome, but the capital of Italy is Rome. \\u200e Appears in 7 books',\n",
       " 'The capital of Canada is Rome,\" says Cardinal Crescenzio Sepe, archbishop of',\n",
       " 'The capital of Canada is Rome, but the city of Rome was founded in the 5th century BC']"
      ]
     },
     "execution_count": 6,
     "metadata": {},
     "output_type": "execute_result"
    }
   ],
   "source": [
    "kn.complete('The capital of Canada is', n_gen_per_prompt=5)"
   ]
  },
  {
   "cell_type": "code",
   "execution_count": 7,
   "id": "6003eb66-7a34-4f42-991a-937d2bdc1b66",
   "metadata": {},
   "outputs": [
    {
     "data": {
      "text/plain": [
       "['Rome is the capital of Italy and is the seat of the Senate. It is also the seat',\n",
       " 'Rome is the capital of Italy. The name Rome was derived from the Roman god of war,',\n",
       " 'Rome is the capital of Italy and one of the oldest cities in the world, and it is',\n",
       " 'Rome is the capital of Italy and the seat of government. The capital was first established in the',\n",
       " 'Rome is the capital of Italy, and the seat of the Roman Republic. The name was given']"
      ]
     },
     "execution_count": 7,
     "metadata": {},
     "output_type": "execute_result"
    }
   ],
   "source": [
    "kn.complete('Rome is the capital of', n_gen_per_prompt=5)"
   ]
  },
  {
   "cell_type": "code",
   "execution_count": 8,
   "id": "abf715bb-eeee-43cf-bf59-87570e204be8",
   "metadata": {},
   "outputs": [
    {
     "data": {
      "text/plain": [
       "['Ottawa is the capital of Canada, and the seat of government of the Commonwealth of Northern Ireland.',\n",
       " 'Ottawa is the capital of Canada and the home of Parliament. The city is located in',\n",
       " 'Ottawa is the capital of the Province of Ontario, and the seat of the Government of Canada.',\n",
       " 'Ottawa is the capital of Canada. It is also the largest city of Ireland, and the second',\n",
       " 'Ottawa is the capital of Canada and its official name is Rome. Rome was the capital city of']"
      ]
     },
     "execution_count": 8,
     "metadata": {},
     "output_type": "execute_result"
    }
   ],
   "source": [
    "kn.complete('Ottawa is the capital of', n_gen_per_prompt=5)"
   ]
  }
 ],
 "metadata": {
  "kernelspec": {
   "display_name": "Python 3 (ipykernel)",
   "language": "python",
   "name": "python3"
  },
  "language_info": {
   "codemirror_mode": {
    "name": "ipython",
    "version": 3
   },
   "file_extension": ".py",
   "mimetype": "text/x-python",
   "name": "python",
   "nbconvert_exporter": "python",
   "pygments_lexer": "ipython3",
   "version": "3.10.9"
  }
 },
 "nbformat": 4,
 "nbformat_minor": 5
}
